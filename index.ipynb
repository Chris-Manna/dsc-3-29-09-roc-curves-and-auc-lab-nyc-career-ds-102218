{
 "cells": [
  {
   "cell_type": "markdown",
   "metadata": {},
   "source": [
    "# ROC Curves and AUC - Lab\n",
    "\n",
    "\n",
    "## Introduction \n",
    "\n",
    "In this lab, we'll practice drawing ROC graphs, calculating AUC, and interpreting these results. In doing so, we will also further review logistic regression, by briefly fitting a model as in a standard data science pipeline.\n",
    "\n",
    "## Objectives\n",
    "\n",
    "You will be able to:\n",
    "\n",
    "* Evaluate classification models using various metrics\n",
    "* Define and understand ROC and AUC"
   ]
  },
  {
   "cell_type": "markdown",
   "metadata": {},
   "source": [
    "## Training the Model\n",
    "\n",
    "Start by repeating the previous modelling steps we have discussed. For this problem, you are given a dataset **mushrooms.csv**. You're first job is to train a LogisticRegression classifier on the dataset to determine whether the mushroom is **e**dible or **p**oisonous. The first column of the dataset *class* indicates whether or not the mushroom is poisonous or edible.\n",
    "\n",
    "** For consistency use random_state=0**"
   ]
  },
  {
   "cell_type": "code",
   "execution_count": 60,
   "metadata": {},
   "outputs": [
    {
     "data": {
      "text/plain": [
       "380     1\n",
       "3641    0\n",
       "273     0\n",
       "1029    0\n",
       "684     0\n",
       "2899    0\n",
       "1568    1\n",
       "6126    1\n",
       "2267    0\n",
       "4030    1\n",
       "5481    0\n",
       "5010    0\n",
       "1140    0\n",
       "49      0\n",
       "888     0\n",
       "4816    1\n",
       "2676    0\n",
       "1916    1\n",
       "1454    0\n",
       "2030    0\n",
       "3443    1\n",
       "3608    1\n",
       "5870    1\n",
       "7145    1\n",
       "4978    1\n",
       "4136    1\n",
       "1103    1\n",
       "7946    0\n",
       "2164    0\n",
       "5129    1\n",
       "       ..\n",
       "7580    1\n",
       "2465    0\n",
       "2480    0\n",
       "1413    0\n",
       "2406    0\n",
       "3847    0\n",
       "4749    1\n",
       "6380    1\n",
       "4991    1\n",
       "7479    0\n",
       "7337    1\n",
       "2719    0\n",
       "6412    1\n",
       "3073    1\n",
       "3281    1\n",
       "1487    0\n",
       "3482    0\n",
       "5695    0\n",
       "5685    1\n",
       "3906    1\n",
       "5175    0\n",
       "758     0\n",
       "7738    1\n",
       "6916    1\n",
       "5762    1\n",
       "1859    0\n",
       "6181    1\n",
       "6228    1\n",
       "554     0\n",
       "7025    0\n",
       "Name: p, Length: 2031, dtype: uint8"
      ]
     },
     "execution_count": 60,
     "metadata": {},
     "output_type": "execute_result"
    }
   ],
   "source": [
    "#Your code here\n",
    "from sklearn.linear_model import LogisticRegression\n",
    "from sklearn.model_selection import train_test_split\n",
    "import pandas as pd\n",
    "\n",
    "#Load the data\n",
    "df = pd.read_csv('mushrooms.csv')\n",
    "\n",
    "#Define appropriate X and Y\n",
    "X = df[df.columns[1:]]\n",
    "# y = pd.get_dummies(df[['class']]).drop('class_p',axis=1).class_e\n",
    "y = pd.get_dummies(df['class']).iloc[:,1]\n",
    "\n",
    "# Create Dummy Variables\n",
    "X = pd.get_dummies(X)\n",
    "\n",
    "# Split the data into train and test sets.\n",
    "X_train, X_test, y_train, y_test = train_test_split(X, y, random_state=0)\n",
    "\n",
    "# Fit a model\n",
    "logreg = LogisticRegression(fit)\n",
    "\n",
    "# #Normalize the Data\n",
    "# for col in df.columns:\n",
    "#     df[col] = (df[col] - min(df[col]))/(max(df[col])-min(df[col]))\n",
    "\n",
    "# # Split the data into train and test sets\n",
    "# X_train, X_test, y_train, y_test = train_test_split(X,y, random_state=0)\n",
    "\n",
    "# #Fit a model\n",
    "# logreg = LogisticRegression(fit_intercept = False, C= 1e12)\n",
    "# model_log = logreg.fit(X_train, y_train)\n",
    "# print(model_log) #Preview model params\n",
    "\n",
    "# #Predict\n",
    "# y_hat_test = logreg.predict(X_test)\n",
    "\n",
    "# #Data Preview\n",
    "# df.head()"
   ]
  },
  {
   "cell_type": "markdown",
   "metadata": {},
   "source": [
    "## ROC Metrics\n",
    "  \n",
    "Next, calculate the false positive rate and true positive rate (you can use the built in metrics from SciKit-Learn) of your classifier."
   ]
  },
  {
   "cell_type": "code",
   "execution_count": null,
   "metadata": {},
   "outputs": [],
   "source": [
    "# Your code here"
   ]
  },
  {
   "cell_type": "markdown",
   "metadata": {},
   "source": [
    "## Drawing the ROC Graph\n",
    "\n",
    "Next, use the false positive rate and true positive rate to plot the Receiver Operating Characteristic Curve for both the train and test sets."
   ]
  },
  {
   "cell_type": "code",
   "execution_count": null,
   "metadata": {},
   "outputs": [],
   "source": [
    "# Your code here"
   ]
  },
  {
   "cell_type": "markdown",
   "metadata": {},
   "source": [
    "## Interpretation:\n",
    "\n",
    "What do you notice about these ROC curves?"
   ]
  },
  {
   "cell_type": "markdown",
   "metadata": {},
   "source": [
    "## Your answer here"
   ]
  },
  {
   "cell_type": "markdown",
   "metadata": {},
   "source": [
    "## Interpretation\n",
    "Look at the ROC curve graph from the lesson:  \n",
    "\n",
    "<img src=\"images/lesson_roc_graph.png\">\n",
    "\n",
    "Think about the scenario of this model: predicting heart disease. If you tune the current model to have and 82% True Positive Rate, (you've still missed 20% of those with heart disease), what is the False positive rate?"
   ]
  },
  {
   "cell_type": "code",
   "execution_count": null,
   "metadata": {},
   "outputs": [],
   "source": [
    "fpr = #write the approximate fpr when tpr=.8"
   ]
  },
  {
   "cell_type": "markdown",
   "metadata": {},
   "source": [
    "## Interpretation 2\n",
    "If you instead tune the model to have a 95.2% True Postive Rate, what will the False Postive Rate be?"
   ]
  },
  {
   "cell_type": "code",
   "execution_count": null,
   "metadata": {},
   "outputs": [],
   "source": [
    "fpr = #write the approximate fpr when tpr=.95"
   ]
  },
  {
   "cell_type": "markdown",
   "metadata": {},
   "source": [
    "## Opinion\n",
    "In the case of heart disease that we've been talking about, do you find any of the above cases acceptable? How would you tune the model. Describe what this would mean in terms of the number of patients falsely scared of having heart disease and the risk of missing the warning signs for those who do actually have heart disease."
   ]
  },
  {
   "cell_type": "markdown",
   "metadata": {},
   "source": [
    "## Your answer here"
   ]
  },
  {
   "cell_type": "markdown",
   "metadata": {},
   "source": [
    "## Summary\n",
    "\n",
    "In this lesson we further explored ROC curves and AUC, drawing graphs and then interpreting these results to lead to a more detailed and contextualized understanding of our model's accuracy."
   ]
  }
 ],
 "metadata": {
  "kernelspec": {
   "display_name": "Python 3",
   "language": "python",
   "name": "python3"
  },
  "language_info": {
   "codemirror_mode": {
    "name": "ipython",
    "version": 3
   },
   "file_extension": ".py",
   "mimetype": "text/x-python",
   "name": "python",
   "nbconvert_exporter": "python",
   "pygments_lexer": "ipython3",
   "version": "3.6.6"
  }
 },
 "nbformat": 4,
 "nbformat_minor": 2
}
